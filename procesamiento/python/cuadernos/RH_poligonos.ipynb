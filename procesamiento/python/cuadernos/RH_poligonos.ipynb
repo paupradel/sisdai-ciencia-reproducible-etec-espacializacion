{
 "cells": [
  {
   "cell_type": "code",
   "execution_count": 1,
   "id": "062129a5-9539-476a-a97e-3ea9b02995eb",
   "metadata": {},
   "outputs": [],
   "source": [
    "import os\n",
    "import geopandas as gpd\n",
    "import sys\n",
    "sys.path.append('../')\n",
    "import warnings\n",
    "warnings.filterwarnings(\"ignore\", category=RuntimeWarning, module=\"pyogrio\")\n",
    "from modulos.importar_02 import *\n",
    "from modulos.procesos import *\n",
    "from modulos.importar import *"
   ]
  },
  {
   "cell_type": "code",
   "execution_count": 2,
   "id": "2dd7c9c0-a114-453a-865a-781a8581100f",
   "metadata": {},
   "outputs": [
    {
     "name": "stdout",
     "output_type": "stream",
     "text": [
      "Archivo: \n",
      " /home/sear/Documentos/integracion_capas/59_051114_regiones_hidrologicas_poligonos/rh_poligonos.gpkg \n",
      "\n",
      "Dimensiones de la tabla -->  (38, 9)\n",
      "\n",
      "Nombres de los campos -->  ['AREA', 'PERIMETER', 'COV_', 'COV_ID', 'CLAVE', 'NOMBRE', 'SHAPE_AREA', 'SHAPE_LEN', 'geometry']\n",
      "\n",
      "Tipos de dato en los campos:\n",
      " AREA           float64\n",
      "PERIMETER      float64\n",
      "COV_             int64\n",
      "COV_ID           int64\n",
      "CLAVE          float64\n",
      "NOMBRE          object\n",
      "SHAPE_AREA     float64\n",
      "SHAPE_LEN      float64\n",
      "geometry      geometry\n",
      "dtype: object\n",
      "\n",
      "Marco de referencia para sistemas de coordenadas -->  EPSG:4326\n"
     ]
    }
   ],
   "source": [
    "capa = gpkg()"
   ]
  },
  {
   "cell_type": "code",
   "execution_count": 13,
   "id": "50568017-68d1-4f12-9ff2-89238051a89c",
   "metadata": {},
   "outputs": [
    {
     "data": {
      "text/html": [
       "<div>\n",
       "<style scoped>\n",
       "    .dataframe tbody tr th:only-of-type {\n",
       "        vertical-align: middle;\n",
       "    }\n",
       "\n",
       "    .dataframe tbody tr th {\n",
       "        vertical-align: top;\n",
       "    }\n",
       "\n",
       "    .dataframe thead th {\n",
       "        text-align: right;\n",
       "    }\n",
       "</style>\n",
       "<table border=\"1\" class=\"dataframe\">\n",
       "  <thead>\n",
       "    <tr style=\"text-align: right;\">\n",
       "      <th></th>\n",
       "      <th>g_id</th>\n",
       "      <th>CLAVE</th>\n",
       "      <th>NOMBRE</th>\n",
       "      <th>SHAPE_AREA</th>\n",
       "      <th>SHAPE_LEN</th>\n",
       "      <th>geometry</th>\n",
       "    </tr>\n",
       "  </thead>\n",
       "  <tbody>\n",
       "    <tr>\n",
       "      <th>0</th>\n",
       "      <td>1</td>\n",
       "      <td>7</td>\n",
       "      <td>Rio Colorado</td>\n",
       "      <td>7.247069e+09</td>\n",
       "      <td>7.132526e+05</td>\n",
       "      <td>MULTIPOLYGON (((-116.29018 32.6037, -116.2879 ...</td>\n",
       "    </tr>\n",
       "    <tr>\n",
       "      <th>1</th>\n",
       "      <td>2</td>\n",
       "      <td>4</td>\n",
       "      <td>B.C. Noreste</td>\n",
       "      <td>1.569472e+10</td>\n",
       "      <td>9.834426e+05</td>\n",
       "      <td>MULTIPOLYGON (((-115.43073 32.35447, -115.4306...</td>\n",
       "    </tr>\n",
       "    <tr>\n",
       "      <th>2</th>\n",
       "      <td>3</td>\n",
       "      <td>1</td>\n",
       "      <td>B.C. Noroeste</td>\n",
       "      <td>2.687687e+10</td>\n",
       "      <td>1.299458e+06</td>\n",
       "      <td>MULTIPOLYGON (((-117.07299 32.36624, -117.0736...</td>\n",
       "    </tr>\n",
       "    <tr>\n",
       "      <th>3</th>\n",
       "      <td>4</td>\n",
       "      <td>8</td>\n",
       "      <td>Sonora Norte</td>\n",
       "      <td>5.884310e+10</td>\n",
       "      <td>1.859941e+06</td>\n",
       "      <td>MULTIPOLYGON (((-114.70891 32.46322, -114.6666...</td>\n",
       "    </tr>\n",
       "    <tr>\n",
       "      <th>4</th>\n",
       "      <td>5</td>\n",
       "      <td>34</td>\n",
       "      <td>Cuencas Cerradas del Nte</td>\n",
       "      <td>8.850407e+10</td>\n",
       "      <td>1.768552e+06</td>\n",
       "      <td>MULTIPOLYGON (((-108.75298 31.33486, -108.6355...</td>\n",
       "    </tr>\n",
       "  </tbody>\n",
       "</table>\n",
       "</div>"
      ],
      "text/plain": [
       "   g_id  CLAVE                    NOMBRE    SHAPE_AREA     SHAPE_LEN  \\\n",
       "0     1      7              Rio Colorado  7.247069e+09  7.132526e+05   \n",
       "1     2      4              B.C. Noreste  1.569472e+10  9.834426e+05   \n",
       "2     3      1             B.C. Noroeste  2.687687e+10  1.299458e+06   \n",
       "3     4      8              Sonora Norte  5.884310e+10  1.859941e+06   \n",
       "4     5     34  Cuencas Cerradas del Nte  8.850407e+10  1.768552e+06   \n",
       "\n",
       "                                            geometry  \n",
       "0  MULTIPOLYGON (((-116.29018 32.6037, -116.2879 ...  \n",
       "1  MULTIPOLYGON (((-115.43073 32.35447, -115.4306...  \n",
       "2  MULTIPOLYGON (((-117.07299 32.36624, -117.0736...  \n",
       "3  MULTIPOLYGON (((-114.70891 32.46322, -114.6666...  \n",
       "4  MULTIPOLYGON (((-108.75298 31.33486, -108.6355...  "
      ]
     },
     "execution_count": 13,
     "metadata": {},
     "output_type": "execute_result"
    }
   ],
   "source": [
    "capa.head()"
   ]
  },
  {
   "cell_type": "code",
   "execution_count": 4,
   "id": "ca36a849-02e4-426e-a74c-d95af7952703",
   "metadata": {},
   "outputs": [],
   "source": [
    "capa = crea_gid(capa)"
   ]
  },
  {
   "cell_type": "code",
   "execution_count": 6,
   "id": "3ac409e0-33c7-42cb-b1f8-26714617eab4",
   "metadata": {},
   "outputs": [],
   "source": [
    "capa = eliminar_columnas(capa, [\"COV_\", \"COV_ID\"])"
   ]
  },
  {
   "cell_type": "code",
   "execution_count": 8,
   "id": "b6bc86d4-e0b0-4ad0-a515-d95d2e04ee58",
   "metadata": {},
   "outputs": [],
   "source": [
    "capa = eliminar_columnas(capa, [\"AREA\", \"PERIMETER\"])"
   ]
  },
  {
   "cell_type": "code",
   "execution_count": 10,
   "id": "8e614906-9266-45e4-ae14-3d950f8bad4c",
   "metadata": {},
   "outputs": [],
   "source": [
    "capa = convertir_columna_entero(capa, \"CLAVE\")"
   ]
  },
  {
   "cell_type": "code",
   "execution_count": 12,
   "id": "6436881e-3ddc-40bf-98b9-252432739af1",
   "metadata": {},
   "outputs": [],
   "source": [
    "salida = capa.sort_values('CLAVE')"
   ]
  },
  {
   "cell_type": "code",
   "execution_count": 26,
   "id": "4c12cf11-7561-4942-98ab-3f5200a77c48",
   "metadata": {},
   "outputs": [
    {
     "data": {
      "text/html": [
       "<div>\n",
       "<style scoped>\n",
       "    .dataframe tbody tr th:only-of-type {\n",
       "        vertical-align: middle;\n",
       "    }\n",
       "\n",
       "    .dataframe tbody tr th {\n",
       "        vertical-align: top;\n",
       "    }\n",
       "\n",
       "    .dataframe thead th {\n",
       "        text-align: right;\n",
       "    }\n",
       "</style>\n",
       "<table border=\"1\" class=\"dataframe\">\n",
       "  <thead>\n",
       "    <tr style=\"text-align: right;\">\n",
       "      <th></th>\n",
       "      <th>g_id</th>\n",
       "      <th>clave</th>\n",
       "      <th>nombre_rh</th>\n",
       "      <th>area_calculada(m2)</th>\n",
       "      <th>perimetro_calculado(m)</th>\n",
       "      <th>geometry</th>\n",
       "    </tr>\n",
       "  </thead>\n",
       "  <tbody>\n",
       "    <tr>\n",
       "      <th>2</th>\n",
       "      <td>1</td>\n",
       "      <td>1</td>\n",
       "      <td>B.C. Noroeste</td>\n",
       "      <td>2.687687e+10</td>\n",
       "      <td>1.299458e+06</td>\n",
       "      <td>MULTIPOLYGON (((-117.07299 32.36624, -117.0736...</td>\n",
       "    </tr>\n",
       "    <tr>\n",
       "      <th>8</th>\n",
       "      <td>2</td>\n",
       "      <td>2</td>\n",
       "      <td>B.C. Centro Oeste</td>\n",
       "      <td>4.133596e+10</td>\n",
       "      <td>2.622080e+06</td>\n",
       "      <td>MULTIPOLYGON (((-114.72789 29.8872, -114.72751...</td>\n",
       "    </tr>\n",
       "    <tr>\n",
       "      <th>12</th>\n",
       "      <td>3</td>\n",
       "      <td>3</td>\n",
       "      <td>B.C. Suroeste</td>\n",
       "      <td>2.789568e+10</td>\n",
       "      <td>1.989680e+06</td>\n",
       "      <td>MULTIPOLYGON (((-112.09132 26.63847, -112.0884...</td>\n",
       "    </tr>\n",
       "    <tr>\n",
       "      <th>1</th>\n",
       "      <td>4</td>\n",
       "      <td>4</td>\n",
       "      <td>B.C. Noreste</td>\n",
       "      <td>1.569472e+10</td>\n",
       "      <td>9.834426e+05</td>\n",
       "      <td>MULTIPOLYGON (((-115.43073 32.35447, -115.4306...</td>\n",
       "    </tr>\n",
       "    <tr>\n",
       "      <th>7</th>\n",
       "      <td>5</td>\n",
       "      <td>5</td>\n",
       "      <td>B.C. Centro Este</td>\n",
       "      <td>1.268437e+10</td>\n",
       "      <td>1.406087e+06</td>\n",
       "      <td>MULTIPOLYGON (((-114.47655 29.92995, -114.4765...</td>\n",
       "    </tr>\n",
       "  </tbody>\n",
       "</table>\n",
       "</div>"
      ],
      "text/plain": [
       "    g_id  clave          nombre_rh  area_calculada(m2)  \\\n",
       "2      1      1      B.C. Noroeste        2.687687e+10   \n",
       "8      2      2  B.C. Centro Oeste        4.133596e+10   \n",
       "12     3      3      B.C. Suroeste        2.789568e+10   \n",
       "1      4      4       B.C. Noreste        1.569472e+10   \n",
       "7      5      5   B.C. Centro Este        1.268437e+10   \n",
       "\n",
       "    perimetro_calculado(m)                                           geometry  \n",
       "2             1.299458e+06  MULTIPOLYGON (((-117.07299 32.36624, -117.0736...  \n",
       "8             2.622080e+06  MULTIPOLYGON (((-114.72789 29.8872, -114.72751...  \n",
       "12            1.989680e+06  MULTIPOLYGON (((-112.09132 26.63847, -112.0884...  \n",
       "1             9.834426e+05  MULTIPOLYGON (((-115.43073 32.35447, -115.4306...  \n",
       "7             1.406087e+06  MULTIPOLYGON (((-114.47655 29.92995, -114.4765...  "
      ]
     },
     "execution_count": 26,
     "metadata": {},
     "output_type": "execute_result"
    }
   ],
   "source": [
    "salida.head()"
   ]
  },
  {
   "cell_type": "code",
   "execution_count": 18,
   "id": "b9172ce6-5737-4bca-98c7-9a25bfcf8cb5",
   "metadata": {},
   "outputs": [],
   "source": [
    "salida = eliminar_columnas(salida, [\"g_id\"])"
   ]
  },
  {
   "cell_type": "code",
   "execution_count": 19,
   "id": "4bbaf79d-651d-486f-9bd8-b2d51b960153",
   "metadata": {},
   "outputs": [],
   "source": [
    "salida = crea_gid(salida)"
   ]
  },
  {
   "cell_type": "code",
   "execution_count": 21,
   "id": "a1b10ccf-80a0-44c2-8a8e-d33282c13b82",
   "metadata": {},
   "outputs": [],
   "source": [
    "columnas = (salida.columns)"
   ]
  },
  {
   "cell_type": "code",
   "execution_count": 22,
   "id": "289dd71b-9843-41a0-a7ad-04e9183a36ad",
   "metadata": {},
   "outputs": [
    {
     "name": "stdout",
     "output_type": "stream",
     "text": [
      "Index(['g_id', 'CLAVE', 'NOMBRE', 'SHAPE_AREA', 'SHAPE_LEN', 'geometry'], dtype='object')\n"
     ]
    }
   ],
   "source": [
    "print(columnas)"
   ]
  },
  {
   "cell_type": "code",
   "execution_count": 24,
   "id": "334b4d61-b596-480a-8cb5-c90b3ac36fa3",
   "metadata": {},
   "outputs": [],
   "source": [
    "dicc = {'CLAVE': 'clave', 'NOMBRE': 'nombre_rh', 'SHAPE_AREA': 'area_calculada(m2)', 'SHAPE_LEN': 'perimetro_calculado(m)'}"
   ]
  },
  {
   "cell_type": "code",
   "execution_count": 25,
   "id": "c871fb9a-b9c4-4de3-baec-76e9469f65f5",
   "metadata": {},
   "outputs": [],
   "source": [
    "salida = renombrar_columnas(salida, dicc)"
   ]
  },
  {
   "cell_type": "code",
   "execution_count": 29,
   "id": "f8423f60-cc02-4201-bc53-903266718483",
   "metadata": {},
   "outputs": [],
   "source": [
    "salida1 = salida.reset_index()"
   ]
  },
  {
   "cell_type": "code",
   "execution_count": 33,
   "id": "33fc7f80-0828-44b5-bbd3-bb83567280d4",
   "metadata": {},
   "outputs": [
    {
     "data": {
      "text/html": [
       "<div>\n",
       "<style scoped>\n",
       "    .dataframe tbody tr th:only-of-type {\n",
       "        vertical-align: middle;\n",
       "    }\n",
       "\n",
       "    .dataframe tbody tr th {\n",
       "        vertical-align: top;\n",
       "    }\n",
       "\n",
       "    .dataframe thead th {\n",
       "        text-align: right;\n",
       "    }\n",
       "</style>\n",
       "<table border=\"1\" class=\"dataframe\">\n",
       "  <thead>\n",
       "    <tr style=\"text-align: right;\">\n",
       "      <th></th>\n",
       "      <th>g_id</th>\n",
       "      <th>clave</th>\n",
       "      <th>nombre_rh</th>\n",
       "      <th>area_calculada(m2)</th>\n",
       "      <th>perimetro_calculado(m)</th>\n",
       "      <th>geometry</th>\n",
       "    </tr>\n",
       "  </thead>\n",
       "  <tbody>\n",
       "    <tr>\n",
       "      <th>0</th>\n",
       "      <td>1</td>\n",
       "      <td>1</td>\n",
       "      <td>B.C. Noroeste</td>\n",
       "      <td>2.687687e+10</td>\n",
       "      <td>1.299458e+06</td>\n",
       "      <td>MULTIPOLYGON (((-117.07299 32.36624, -117.0736...</td>\n",
       "    </tr>\n",
       "    <tr>\n",
       "      <th>1</th>\n",
       "      <td>2</td>\n",
       "      <td>2</td>\n",
       "      <td>B.C. Centro Oeste</td>\n",
       "      <td>4.133596e+10</td>\n",
       "      <td>2.622080e+06</td>\n",
       "      <td>MULTIPOLYGON (((-114.72789 29.8872, -114.72751...</td>\n",
       "    </tr>\n",
       "    <tr>\n",
       "      <th>2</th>\n",
       "      <td>3</td>\n",
       "      <td>3</td>\n",
       "      <td>B.C. Suroeste</td>\n",
       "      <td>2.789568e+10</td>\n",
       "      <td>1.989680e+06</td>\n",
       "      <td>MULTIPOLYGON (((-112.09132 26.63847, -112.0884...</td>\n",
       "    </tr>\n",
       "    <tr>\n",
       "      <th>3</th>\n",
       "      <td>4</td>\n",
       "      <td>4</td>\n",
       "      <td>B.C. Noreste</td>\n",
       "      <td>1.569472e+10</td>\n",
       "      <td>9.834426e+05</td>\n",
       "      <td>MULTIPOLYGON (((-115.43073 32.35447, -115.4306...</td>\n",
       "    </tr>\n",
       "    <tr>\n",
       "      <th>4</th>\n",
       "      <td>5</td>\n",
       "      <td>5</td>\n",
       "      <td>B.C. Centro Este</td>\n",
       "      <td>1.268437e+10</td>\n",
       "      <td>1.406087e+06</td>\n",
       "      <td>MULTIPOLYGON (((-114.47655 29.92995, -114.4765...</td>\n",
       "    </tr>\n",
       "  </tbody>\n",
       "</table>\n",
       "</div>"
      ],
      "text/plain": [
       "   g_id  clave          nombre_rh  area_calculada(m2)  perimetro_calculado(m)  \\\n",
       "0     1      1      B.C. Noroeste        2.687687e+10            1.299458e+06   \n",
       "1     2      2  B.C. Centro Oeste        4.133596e+10            2.622080e+06   \n",
       "2     3      3      B.C. Suroeste        2.789568e+10            1.989680e+06   \n",
       "3     4      4       B.C. Noreste        1.569472e+10            9.834426e+05   \n",
       "4     5      5   B.C. Centro Este        1.268437e+10            1.406087e+06   \n",
       "\n",
       "                                            geometry  \n",
       "0  MULTIPOLYGON (((-117.07299 32.36624, -117.0736...  \n",
       "1  MULTIPOLYGON (((-114.72789 29.8872, -114.72751...  \n",
       "2  MULTIPOLYGON (((-112.09132 26.63847, -112.0884...  \n",
       "3  MULTIPOLYGON (((-115.43073 32.35447, -115.4306...  \n",
       "4  MULTIPOLYGON (((-114.47655 29.92995, -114.4765...  "
      ]
     },
     "execution_count": 33,
     "metadata": {},
     "output_type": "execute_result"
    }
   ],
   "source": [
    "salida1.head()"
   ]
  },
  {
   "cell_type": "code",
   "execution_count": 32,
   "id": "e1b573bc-06df-43e4-a9bc-67bc73825267",
   "metadata": {},
   "outputs": [],
   "source": [
    "salida1 = eliminar_columnas(salida1, [\"index\"])"
   ]
  },
  {
   "cell_type": "code",
   "execution_count": 34,
   "id": "e9302b05-960f-4412-8ccc-4a94fe2e27fd",
   "metadata": {},
   "outputs": [],
   "source": [
    "salida1 = salida1.to_crs(epsg=4326)"
   ]
  },
  {
   "cell_type": "code",
   "execution_count": 35,
   "id": "5a0156e1-9a2a-4b1e-813d-aba2219e5694",
   "metadata": {},
   "outputs": [],
   "source": [
    "ruta = \"/home/sear/Documentos/integracion_capas/59_051114_regiones_hidrologicas_poligonos/salida_rh_conabio_09_a.gpkg\""
   ]
  },
  {
   "cell_type": "code",
   "execution_count": 36,
   "id": "0376086e-74d7-4bf1-ad25-889159ab49bc",
   "metadata": {},
   "outputs": [],
   "source": [
    "salida1.to_file(ruta, layer='regiones_hidrologicas', driver=\"GPKG\")"
   ]
  },
  {
   "cell_type": "code",
   "execution_count": null,
   "id": "695df9e7-2255-4b48-b036-92d8995347ed",
   "metadata": {},
   "outputs": [],
   "source": []
  }
 ],
 "metadata": {
  "kernelspec": {
   "display_name": "Python 3 (ipykernel)",
   "language": "python",
   "name": "python3"
  },
  "language_info": {
   "codemirror_mode": {
    "name": "ipython",
    "version": 3
   },
   "file_extension": ".py",
   "mimetype": "text/x-python",
   "name": "python",
   "nbconvert_exporter": "python",
   "pygments_lexer": "ipython3",
   "version": "3.12.5"
  }
 },
 "nbformat": 4,
 "nbformat_minor": 5
}
