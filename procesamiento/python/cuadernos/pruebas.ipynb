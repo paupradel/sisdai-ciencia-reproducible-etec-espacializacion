{
 "cells": [
  {
   "cell_type": "code",
   "execution_count": 1,
   "metadata": {},
   "outputs": [],
   "source": [
    "import os\n",
    "import geopandas as gpd\n",
    "import sys\n",
    "sys.path.append('../')\n",
    "import warnings\n",
    "warnings.filterwarnings(\"ignore\", category=RuntimeWarning, module=\"pyogrio\")\n",
    "from modulos.importar_02 import *\n",
    "from modulos.procesos import *\n",
    "from modulos.importar import *"
   ]
  },
  {
   "cell_type": "code",
   "execution_count": 189,
   "metadata": {},
   "outputs": [
    {
     "name": "stdout",
     "output_type": "stream",
     "text": [
      "Archivo: \n",
      " /media/sear/63AB-4B80/Documentos/integracion_capas/55_041024_curvas_nivel/entradas/32_curvas_nivel_zacatecas.gpkg \n",
      "\n",
      "Dimensiones de la tabla -->  (84233, 5)\n",
      "\n",
      "Nombres de los campos -->  ['identificador', 'altura', 'tipo', 'cali_repr', 'geometry']\n",
      "\n",
      "Tipos de dato en los campos:\n",
      " identificador       int32\n",
      "altura              int32\n",
      "tipo               object\n",
      "cali_repr          object\n",
      "geometry         geometry\n",
      "dtype: object\n",
      "\n",
      "Marco de referencia para sistemas de coordenadas -->  EPSG:4326\n"
     ]
    }
   ],
   "source": [
    "capa = gpkg()"
   ]
  },
  {
   "cell_type": "code",
   "execution_count": 190,
   "metadata": {},
   "outputs": [
    {
     "data": {
      "text/html": [
       "<div>\n",
       "<style scoped>\n",
       "    .dataframe tbody tr th:only-of-type {\n",
       "        vertical-align: middle;\n",
       "    }\n",
       "\n",
       "    .dataframe tbody tr th {\n",
       "        vertical-align: top;\n",
       "    }\n",
       "\n",
       "    .dataframe thead th {\n",
       "        text-align: right;\n",
       "    }\n",
       "</style>\n",
       "<table border=\"1\" class=\"dataframe\">\n",
       "  <thead>\n",
       "    <tr style=\"text-align: right;\">\n",
       "      <th></th>\n",
       "      <th>identificador</th>\n",
       "      <th>altura</th>\n",
       "      <th>tipo</th>\n",
       "      <th>cali_repr</th>\n",
       "      <th>geometry</th>\n",
       "    </tr>\n",
       "  </thead>\n",
       "  <tbody>\n",
       "    <tr>\n",
       "      <th>0</th>\n",
       "      <td>319753522</td>\n",
       "      <td>2390</td>\n",
       "      <td>Otro</td>\n",
       "      <td>Definida</td>\n",
       "      <td>MULTILINESTRING ((-103.79408 22.80367, -103.79...</td>\n",
       "    </tr>\n",
       "    <tr>\n",
       "      <th>1</th>\n",
       "      <td>319753525</td>\n",
       "      <td>2390</td>\n",
       "      <td>Otro</td>\n",
       "      <td>Definida</td>\n",
       "      <td>MULTILINESTRING ((-103.46776 23.60797, -103.46...</td>\n",
       "    </tr>\n",
       "    <tr>\n",
       "      <th>2</th>\n",
       "      <td>319753526</td>\n",
       "      <td>2390</td>\n",
       "      <td>Otro</td>\n",
       "      <td>Definida</td>\n",
       "      <td>MULTILINESTRING ((-103.41678 23.52833, -103.41...</td>\n",
       "    </tr>\n",
       "    <tr>\n",
       "      <th>3</th>\n",
       "      <td>319753527</td>\n",
       "      <td>2390</td>\n",
       "      <td>Otro</td>\n",
       "      <td>Definida</td>\n",
       "      <td>MULTILINESTRING ((-103.41583 23.5446, -103.415...</td>\n",
       "    </tr>\n",
       "    <tr>\n",
       "      <th>4</th>\n",
       "      <td>319753755</td>\n",
       "      <td>2390</td>\n",
       "      <td>Otro</td>\n",
       "      <td>Definida</td>\n",
       "      <td>MULTILINESTRING ((-100.95451 24.34167, -100.95...</td>\n",
       "    </tr>\n",
       "  </tbody>\n",
       "</table>\n",
       "</div>"
      ],
      "text/plain": [
       "   identificador  altura  tipo cali_repr  \\\n",
       "0      319753522    2390  Otro  Definida   \n",
       "1      319753525    2390  Otro  Definida   \n",
       "2      319753526    2390  Otro  Definida   \n",
       "3      319753527    2390  Otro  Definida   \n",
       "4      319753755    2390  Otro  Definida   \n",
       "\n",
       "                                            geometry  \n",
       "0  MULTILINESTRING ((-103.79408 22.80367, -103.79...  \n",
       "1  MULTILINESTRING ((-103.46776 23.60797, -103.46...  \n",
       "2  MULTILINESTRING ((-103.41678 23.52833, -103.41...  \n",
       "3  MULTILINESTRING ((-103.41583 23.5446, -103.415...  \n",
       "4  MULTILINESTRING ((-100.95451 24.34167, -100.95...  "
      ]
     },
     "execution_count": 190,
     "metadata": {},
     "output_type": "execute_result"
    }
   ],
   "source": [
    "capa.head()"
   ]
  },
  {
   "cell_type": "code",
   "execution_count": 191,
   "metadata": {},
   "outputs": [],
   "source": [
    "capa = crea_gid(capa)"
   ]
  },
  {
   "cell_type": "code",
   "execution_count": 192,
   "metadata": {},
   "outputs": [
    {
     "data": {
      "text/plain": [
       "g_id                int64\n",
       "identificador       int32\n",
       "altura              int32\n",
       "tipo               object\n",
       "cali_repr          object\n",
       "geometry         geometry\n",
       "dtype: object"
      ]
     },
     "execution_count": 192,
     "metadata": {},
     "output_type": "execute_result"
    }
   ],
   "source": [
    "capa.dtypes"
   ]
  },
  {
   "cell_type": "code",
   "execution_count": 193,
   "metadata": {},
   "outputs": [
    {
     "data": {
      "text/plain": [
       "Index(['g_id', 'identificador', 'altura', 'tipo', 'cali_repr', 'geometry'], dtype='object')"
      ]
     },
     "execution_count": 193,
     "metadata": {},
     "output_type": "execute_result"
    }
   ],
   "source": [
    "capa.columns"
   ]
  },
  {
   "cell_type": "code",
   "execution_count": 194,
   "metadata": {},
   "outputs": [],
   "source": [
    "capa = convertir_columna_texto(capa, \"identificador\")"
   ]
  },
  {
   "cell_type": "code",
   "execution_count": 195,
   "metadata": {},
   "outputs": [
    {
     "data": {
      "text/plain": [
       "g_id                int64\n",
       "identificador      object\n",
       "altura              int32\n",
       "tipo               object\n",
       "cali_repr          object\n",
       "geometry         geometry\n",
       "dtype: object"
      ]
     },
     "execution_count": 195,
     "metadata": {},
     "output_type": "execute_result"
    }
   ],
   "source": [
    "capa.dtypes"
   ]
  },
  {
   "cell_type": "code",
   "execution_count": 196,
   "metadata": {},
   "outputs": [
    {
     "data": {
      "text/html": [
       "<div>\n",
       "<style scoped>\n",
       "    .dataframe tbody tr th:only-of-type {\n",
       "        vertical-align: middle;\n",
       "    }\n",
       "\n",
       "    .dataframe tbody tr th {\n",
       "        vertical-align: top;\n",
       "    }\n",
       "\n",
       "    .dataframe thead th {\n",
       "        text-align: right;\n",
       "    }\n",
       "</style>\n",
       "<table border=\"1\" class=\"dataframe\">\n",
       "  <thead>\n",
       "    <tr style=\"text-align: right;\">\n",
       "      <th></th>\n",
       "      <th>g_id</th>\n",
       "      <th>identificador</th>\n",
       "      <th>altura</th>\n",
       "      <th>tipo</th>\n",
       "      <th>cali_repr</th>\n",
       "      <th>geometry</th>\n",
       "    </tr>\n",
       "  </thead>\n",
       "  <tbody>\n",
       "    <tr>\n",
       "      <th>0</th>\n",
       "      <td>1</td>\n",
       "      <td>319753522</td>\n",
       "      <td>2390</td>\n",
       "      <td>Otro</td>\n",
       "      <td>Definida</td>\n",
       "      <td>MULTILINESTRING ((-103.79408 22.80367, -103.79...</td>\n",
       "    </tr>\n",
       "    <tr>\n",
       "      <th>1</th>\n",
       "      <td>2</td>\n",
       "      <td>319753525</td>\n",
       "      <td>2390</td>\n",
       "      <td>Otro</td>\n",
       "      <td>Definida</td>\n",
       "      <td>MULTILINESTRING ((-103.46776 23.60797, -103.46...</td>\n",
       "    </tr>\n",
       "    <tr>\n",
       "      <th>2</th>\n",
       "      <td>3</td>\n",
       "      <td>319753526</td>\n",
       "      <td>2390</td>\n",
       "      <td>Otro</td>\n",
       "      <td>Definida</td>\n",
       "      <td>MULTILINESTRING ((-103.41678 23.52833, -103.41...</td>\n",
       "    </tr>\n",
       "    <tr>\n",
       "      <th>3</th>\n",
       "      <td>4</td>\n",
       "      <td>319753527</td>\n",
       "      <td>2390</td>\n",
       "      <td>Otro</td>\n",
       "      <td>Definida</td>\n",
       "      <td>MULTILINESTRING ((-103.41583 23.5446, -103.415...</td>\n",
       "    </tr>\n",
       "    <tr>\n",
       "      <th>4</th>\n",
       "      <td>5</td>\n",
       "      <td>319753755</td>\n",
       "      <td>2390</td>\n",
       "      <td>Otro</td>\n",
       "      <td>Definida</td>\n",
       "      <td>MULTILINESTRING ((-100.95451 24.34167, -100.95...</td>\n",
       "    </tr>\n",
       "  </tbody>\n",
       "</table>\n",
       "</div>"
      ],
      "text/plain": [
       "   g_id identificador  altura  tipo cali_repr  \\\n",
       "0     1     319753522    2390  Otro  Definida   \n",
       "1     2     319753525    2390  Otro  Definida   \n",
       "2     3     319753526    2390  Otro  Definida   \n",
       "3     4     319753527    2390  Otro  Definida   \n",
       "4     5     319753755    2390  Otro  Definida   \n",
       "\n",
       "                                            geometry  \n",
       "0  MULTILINESTRING ((-103.79408 22.80367, -103.79...  \n",
       "1  MULTILINESTRING ((-103.46776 23.60797, -103.46...  \n",
       "2  MULTILINESTRING ((-103.41678 23.52833, -103.41...  \n",
       "3  MULTILINESTRING ((-103.41583 23.5446, -103.415...  \n",
       "4  MULTILINESTRING ((-100.95451 24.34167, -100.95...  "
      ]
     },
     "execution_count": 196,
     "metadata": {},
     "output_type": "execute_result"
    }
   ],
   "source": [
    "capa.head()"
   ]
  },
  {
   "cell_type": "code",
   "execution_count": 197,
   "metadata": {},
   "outputs": [],
   "source": [
    "capa[\"nom_ent\"] = \"Zacatecas\"\n",
    "capa[\"cve_ent\"] = \"32\""
   ]
  },
  {
   "cell_type": "code",
   "execution_count": 198,
   "metadata": {},
   "outputs": [
    {
     "name": "stdout",
     "output_type": "stream",
     "text": [
      "['g_id', 'identificador', 'altura', 'tipo', 'cali_repr', 'geometry', 'nom_ent', 'cve_ent']\n"
     ]
    }
   ],
   "source": [
    "print(list(capa))"
   ]
  },
  {
   "cell_type": "code",
   "execution_count": 199,
   "metadata": {},
   "outputs": [],
   "source": [
    "lista_campos = ['g_id', 'cve_ent', 'nom_ent', 'identificador', 'altura', 'tipo', 'cali_repr', 'geometry']"
   ]
  },
  {
   "cell_type": "code",
   "execution_count": 200,
   "metadata": {},
   "outputs": [],
   "source": [
    "capa = reordenar_columnas(capa, lista_campos)"
   ]
  },
  {
   "cell_type": "code",
   "execution_count": 201,
   "metadata": {},
   "outputs": [
    {
     "data": {
      "text/html": [
       "<div>\n",
       "<style scoped>\n",
       "    .dataframe tbody tr th:only-of-type {\n",
       "        vertical-align: middle;\n",
       "    }\n",
       "\n",
       "    .dataframe tbody tr th {\n",
       "        vertical-align: top;\n",
       "    }\n",
       "\n",
       "    .dataframe thead th {\n",
       "        text-align: right;\n",
       "    }\n",
       "</style>\n",
       "<table border=\"1\" class=\"dataframe\">\n",
       "  <thead>\n",
       "    <tr style=\"text-align: right;\">\n",
       "      <th></th>\n",
       "      <th>g_id</th>\n",
       "      <th>cve_ent</th>\n",
       "      <th>nom_ent</th>\n",
       "      <th>identificador</th>\n",
       "      <th>altura</th>\n",
       "      <th>tipo</th>\n",
       "      <th>cali_repr</th>\n",
       "      <th>geometry</th>\n",
       "    </tr>\n",
       "  </thead>\n",
       "  <tbody>\n",
       "    <tr>\n",
       "      <th>0</th>\n",
       "      <td>1</td>\n",
       "      <td>32</td>\n",
       "      <td>Zacatecas</td>\n",
       "      <td>319753522</td>\n",
       "      <td>2390</td>\n",
       "      <td>Otro</td>\n",
       "      <td>Definida</td>\n",
       "      <td>MULTILINESTRING ((-103.79408 22.80367, -103.79...</td>\n",
       "    </tr>\n",
       "    <tr>\n",
       "      <th>1</th>\n",
       "      <td>2</td>\n",
       "      <td>32</td>\n",
       "      <td>Zacatecas</td>\n",
       "      <td>319753525</td>\n",
       "      <td>2390</td>\n",
       "      <td>Otro</td>\n",
       "      <td>Definida</td>\n",
       "      <td>MULTILINESTRING ((-103.46776 23.60797, -103.46...</td>\n",
       "    </tr>\n",
       "    <tr>\n",
       "      <th>2</th>\n",
       "      <td>3</td>\n",
       "      <td>32</td>\n",
       "      <td>Zacatecas</td>\n",
       "      <td>319753526</td>\n",
       "      <td>2390</td>\n",
       "      <td>Otro</td>\n",
       "      <td>Definida</td>\n",
       "      <td>MULTILINESTRING ((-103.41678 23.52833, -103.41...</td>\n",
       "    </tr>\n",
       "    <tr>\n",
       "      <th>3</th>\n",
       "      <td>4</td>\n",
       "      <td>32</td>\n",
       "      <td>Zacatecas</td>\n",
       "      <td>319753527</td>\n",
       "      <td>2390</td>\n",
       "      <td>Otro</td>\n",
       "      <td>Definida</td>\n",
       "      <td>MULTILINESTRING ((-103.41583 23.5446, -103.415...</td>\n",
       "    </tr>\n",
       "    <tr>\n",
       "      <th>4</th>\n",
       "      <td>5</td>\n",
       "      <td>32</td>\n",
       "      <td>Zacatecas</td>\n",
       "      <td>319753755</td>\n",
       "      <td>2390</td>\n",
       "      <td>Otro</td>\n",
       "      <td>Definida</td>\n",
       "      <td>MULTILINESTRING ((-100.95451 24.34167, -100.95...</td>\n",
       "    </tr>\n",
       "  </tbody>\n",
       "</table>\n",
       "</div>"
      ],
      "text/plain": [
       "   g_id cve_ent    nom_ent identificador  altura  tipo cali_repr  \\\n",
       "0     1      32  Zacatecas     319753522    2390  Otro  Definida   \n",
       "1     2      32  Zacatecas     319753525    2390  Otro  Definida   \n",
       "2     3      32  Zacatecas     319753526    2390  Otro  Definida   \n",
       "3     4      32  Zacatecas     319753527    2390  Otro  Definida   \n",
       "4     5      32  Zacatecas     319753755    2390  Otro  Definida   \n",
       "\n",
       "                                            geometry  \n",
       "0  MULTILINESTRING ((-103.79408 22.80367, -103.79...  \n",
       "1  MULTILINESTRING ((-103.46776 23.60797, -103.46...  \n",
       "2  MULTILINESTRING ((-103.41678 23.52833, -103.41...  \n",
       "3  MULTILINESTRING ((-103.41583 23.5446, -103.415...  \n",
       "4  MULTILINESTRING ((-100.95451 24.34167, -100.95...  "
      ]
     },
     "execution_count": 201,
     "metadata": {},
     "output_type": "execute_result"
    }
   ],
   "source": [
    "capa.head()"
   ]
  },
  {
   "cell_type": "code",
   "execution_count": 202,
   "metadata": {},
   "outputs": [
    {
     "data": {
      "text/plain": [
       "g_id                int64\n",
       "cve_ent            object\n",
       "nom_ent            object\n",
       "identificador      object\n",
       "altura              int32\n",
       "tipo               object\n",
       "cali_repr          object\n",
       "geometry         geometry\n",
       "dtype: object"
      ]
     },
     "execution_count": 202,
     "metadata": {},
     "output_type": "execute_result"
    }
   ],
   "source": [
    "capa.dtypes"
   ]
  },
  {
   "cell_type": "code",
   "execution_count": 203,
   "metadata": {},
   "outputs": [],
   "source": [
    "salida = capa.to_crs(epsg=4326)"
   ]
  },
  {
   "cell_type": "code",
   "execution_count": 204,
   "metadata": {},
   "outputs": [],
   "source": [
    "ruta = \"/home/sear/Documentos/integracion_capas/45_020824_procesos_automatizacion/salidas/32_curvas_nivel_zacatecas.gpkg\""
   ]
  },
  {
   "cell_type": "code",
   "execution_count": 205,
   "metadata": {},
   "outputs": [],
   "source": [
    "salida.to_file(ruta, layer='32_curvas_nivel_zacatecas', driver=\"GPKG\")"
   ]
  },
  {
   "cell_type": "code",
   "execution_count": null,
   "metadata": {},
   "outputs": [],
   "source": []
  }
 ],
 "metadata": {
  "kernelspec": {
   "display_name": "Python 3 (ipykernel)",
   "language": "python",
   "name": "python3"
  },
  "language_info": {
   "codemirror_mode": {
    "name": "ipython",
    "version": 3
   },
   "file_extension": ".py",
   "mimetype": "text/x-python",
   "name": "python",
   "nbconvert_exporter": "python",
   "pygments_lexer": "ipython3",
   "version": "3.12.5"
  }
 },
 "nbformat": 4,
 "nbformat_minor": 4
}
