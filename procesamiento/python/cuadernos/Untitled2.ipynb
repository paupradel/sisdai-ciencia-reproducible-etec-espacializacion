{
 "cells": [
  {
   "cell_type": "code",
   "execution_count": 1,
   "id": "bd196623-6852-436b-a7b3-d78740720203",
   "metadata": {},
   "outputs": [],
   "source": [
    "import os\n",
    "import geopandas as gpd\n",
    "import sys\n",
    "sys.path.append('../')\n",
    "import warnings\n",
    "warnings.filterwarnings(\"ignore\", category=RuntimeWarning, module=\"pyogrio\")\n",
    "from modulos.importar_02 import *\n",
    "from modulos.procesos import *\n",
    "from modulos.importar import *"
   ]
  },
  {
   "cell_type": "code",
   "execution_count": 2,
   "id": "df275cb3-59a1-467b-8e24-8655017aa973",
   "metadata": {},
   "outputs": [
    {
     "name": "stdout",
     "output_type": "stream",
     "text": [
      "Dimensiones de la tabla -->  (5506, 24)\n",
      "\n",
      "Nombres de los campos -->  ['clave', 'NOM_ENT', 'CVE_ENT', 'NOM_MUN', 'CVE_MUN', 'nombre', 'entidad_monitoreo', 'municipio_monitoreo', 'org_cuenca', 'cuenca', 'tipo_estacion', 'inicio', 'mas_reciente', 'situacion', 'val_diarios', 'val_mens', 'val_extr', 'norm_61_90', 'norm_71_00', 'norm_81_10', 'norm_91_20', 'x_long', 'y_lat', 'altitud']\n",
      "\n",
      "Tipos de dato en los campos:\n",
      " clave                    int64\n",
      "NOM_ENT                 object\n",
      "CVE_ENT                  int64\n",
      "NOM_MUN                 object\n",
      "CVE_MUN                  int64\n",
      "nombre                  object\n",
      "entidad_monitoreo       object\n",
      "municipio_monitoreo     object\n",
      "org_cuenca              object\n",
      "cuenca                  object\n",
      "tipo_estacion           object\n",
      "inicio                  object\n",
      "mas_reciente            object\n",
      "situacion               object\n",
      "val_diarios             object\n",
      "val_mens                object\n",
      "val_extr                object\n",
      "norm_61_90              object\n",
      "norm_71_00              object\n",
      "norm_81_10              object\n",
      "norm_91_20              object\n",
      "x_long                 float64\n",
      "y_lat                  float64\n",
      "altitud                float64\n",
      "dtype: object\n"
     ]
    }
   ],
   "source": [
    "df = excel()"
   ]
  },
  {
   "cell_type": "code",
   "execution_count": 4,
   "id": "6d2175dc-aafb-45c4-ae85-502c7afc22d9",
   "metadata": {},
   "outputs": [],
   "source": [
    "dicc = {'NOM_ENT': 'nom_ent', 'CVE_ENT': 'cve_ent', \n",
    "        'NOM_MUN': 'nom_mun', 'CVE_MUN': 'cve_mun'}\n",
    "df = renombrar_columnas(df, dicc)"
   ]
  },
  {
   "cell_type": "code",
   "execution_count": 11,
   "id": "cdc6320f-33f1-46e7-b784-cb1a5bcd0ac4",
   "metadata": {},
   "outputs": [
    {
     "data": {
      "text/plain": [
       "Index(['g_id', 'clave', 'nom_ent', 'cve_ent', 'nom_mun', 'cve_mun', 'nombre',\n",
       "       'entidad_monitoreo', 'municipio_monitoreo', 'org_cuenca', 'cuenca',\n",
       "       'tipo_estacion', 'inicio', 'mas_reciente', 'situacion', 'val_diarios',\n",
       "       'val_mens', 'val_extr', 'norm_61_90', 'norm_71_00', 'norm_81_10',\n",
       "       'norm_91_20', 'x_long', 'y_lat', 'altitud', 'cvegeomun'],\n",
       "      dtype='object')"
      ]
     },
     "execution_count": 11,
     "metadata": {},
     "output_type": "execute_result"
    }
   ],
   "source": [
    "df.columns"
   ]
  },
  {
   "cell_type": "code",
   "execution_count": 6,
   "id": "a4beeb15-2669-47c1-b8e8-dd0214033c7a",
   "metadata": {},
   "outputs": [],
   "source": [
    "df = completar_claves(df, 'cve_ent', 2)"
   ]
  },
  {
   "cell_type": "code",
   "execution_count": 7,
   "id": "a40c538e-d757-4cd6-a338-5aa6fc59f074",
   "metadata": {},
   "outputs": [],
   "source": [
    "df = completar_claves(df, 'cve_mun', 3)"
   ]
  },
  {
   "cell_type": "code",
   "execution_count": 10,
   "id": "7c1bebd5-d8c8-420b-9ac5-03b0e7f9f7c5",
   "metadata": {},
   "outputs": [],
   "source": [
    "df = crea_gid(df)"
   ]
  },
  {
   "cell_type": "code",
   "execution_count": 8,
   "id": "d7735404-a90e-49aa-b631-e64e896ca52f",
   "metadata": {},
   "outputs": [],
   "source": [
    "df = concatenar_claves_mun(df)"
   ]
  },
  {
   "cell_type": "code",
   "execution_count": 12,
   "id": "69461f7a-6cee-4782-a314-fbfd56de1ec1",
   "metadata": {},
   "outputs": [],
   "source": [
    "lista = ['g_id', 'clave', 'cve_ent', 'nom_ent', 'cve_mun', 'cvegeomun', 'nom_mun', 'nombre',\n",
    "       'entidad_monitoreo', 'municipio_monitoreo', 'org_cuenca', 'cuenca',\n",
    "       'tipo_estacion', 'inicio', 'mas_reciente', 'situacion', 'val_diarios',\n",
    "       'val_mens', 'val_extr', 'norm_61_90', 'norm_71_00', 'norm_81_10',\n",
    "       'norm_91_20', 'altitud', 'x_long', 'y_lat']\n",
    "df = reordenar_columnas(df, lista)"
   ]
  },
  {
   "cell_type": "code",
   "execution_count": 13,
   "id": "832b6715-5751-4e85-8974-359c5f457beb",
   "metadata": {},
   "outputs": [
    {
     "data": {
      "text/plain": [
       "Index(['g_id', 'clave', 'cve_ent', 'nom_ent', 'cve_mun', 'cvegeomun',\n",
       "       'nom_mun', 'nombre', 'entidad_monitoreo', 'municipio_monitoreo',\n",
       "       'org_cuenca', 'cuenca', 'tipo_estacion', 'inicio', 'mas_reciente',\n",
       "       'situacion', 'val_diarios', 'val_mens', 'val_extr', 'norm_61_90',\n",
       "       'norm_71_00', 'norm_81_10', 'norm_91_20', 'altitud', 'x_long', 'y_lat'],\n",
       "      dtype='object')"
      ]
     },
     "execution_count": 13,
     "metadata": {},
     "output_type": "execute_result"
    }
   ],
   "source": [
    "df.columns"
   ]
  },
  {
   "cell_type": "code",
   "execution_count": 14,
   "id": "c22e5e75-8917-46d7-b911-e76139c2b7f4",
   "metadata": {},
   "outputs": [
    {
     "name": "stdout",
     "output_type": "stream",
     "text": [
      "Dimensiones de la tabla -->  (5506, 27)\n",
      "\n",
      "Nombres de los campos -->  ['g_id', 'clave', 'cve_ent', 'nom_ent', 'cve_mun', 'cvegeomun', 'nom_mun', 'nombre', 'entidad_monitoreo', 'municipio_monitoreo', 'org_cuenca', 'cuenca', 'tipo_estacion', 'inicio', 'mas_reciente', 'situacion', 'val_diarios', 'val_mens', 'val_extr', 'norm_61_90', 'norm_71_00', 'norm_81_10', 'norm_91_20', 'altitud', 'x_long', 'y_lat', 'geometry']\n",
      "\n",
      "Tipos de dato en los campos:\n",
      " g_id                      int64\n",
      "clave                     int64\n",
      "cve_ent                  object\n",
      "nom_ent                  object\n",
      "cve_mun                  object\n",
      "cvegeomun                object\n",
      "nom_mun                  object\n",
      "nombre                   object\n",
      "entidad_monitoreo        object\n",
      "municipio_monitoreo      object\n",
      "org_cuenca               object\n",
      "cuenca                   object\n",
      "tipo_estacion            object\n",
      "inicio                   object\n",
      "mas_reciente             object\n",
      "situacion                object\n",
      "val_diarios              object\n",
      "val_mens                 object\n",
      "val_extr                 object\n",
      "norm_61_90               object\n",
      "norm_71_00               object\n",
      "norm_81_10               object\n",
      "norm_91_20               object\n",
      "altitud                 float64\n",
      "x_long                  float64\n",
      "y_lat                   float64\n",
      "geometry               geometry\n",
      "dtype: object\n",
      "\n",
      "Sistema de referencia de coordenadas (CRS) -->  EPSG:4326\n"
     ]
    }
   ],
   "source": [
    "gdf = generar_capa_puntos(df, 'x_long', 'y_lat')"
   ]
  },
  {
   "cell_type": "code",
   "execution_count": 17,
   "id": "89118660-4243-4acb-9754-345d9e7e02ac",
   "metadata": {},
   "outputs": [
    {
     "data": {
      "text/html": [
       "<div>\n",
       "<style scoped>\n",
       "    .dataframe tbody tr th:only-of-type {\n",
       "        vertical-align: middle;\n",
       "    }\n",
       "\n",
       "    .dataframe tbody tr th {\n",
       "        vertical-align: top;\n",
       "    }\n",
       "\n",
       "    .dataframe thead th {\n",
       "        text-align: right;\n",
       "    }\n",
       "</style>\n",
       "<table border=\"1\" class=\"dataframe\">\n",
       "  <thead>\n",
       "    <tr style=\"text-align: right;\">\n",
       "      <th></th>\n",
       "      <th>g_id</th>\n",
       "      <th>clave</th>\n",
       "      <th>cve_ent</th>\n",
       "      <th>nom_ent</th>\n",
       "      <th>cve_mun</th>\n",
       "      <th>cvegeomun</th>\n",
       "      <th>nom_mun</th>\n",
       "      <th>nombre</th>\n",
       "      <th>entidad_monitoreo</th>\n",
       "      <th>municipio_monitoreo</th>\n",
       "      <th>...</th>\n",
       "      <th>val_mens</th>\n",
       "      <th>val_extr</th>\n",
       "      <th>norm_61_90</th>\n",
       "      <th>norm_71_00</th>\n",
       "      <th>norm_81_10</th>\n",
       "      <th>norm_91_20</th>\n",
       "      <th>altitud</th>\n",
       "      <th>x_long</th>\n",
       "      <th>y_lat</th>\n",
       "      <th>geometry</th>\n",
       "    </tr>\n",
       "  </thead>\n",
       "  <tbody>\n",
       "    <tr>\n",
       "      <th>0</th>\n",
       "      <td>1</td>\n",
       "      <td>1001</td>\n",
       "      <td>01</td>\n",
       "      <td>Aguascalientes</td>\n",
       "      <td>001</td>\n",
       "      <td>01001</td>\n",
       "      <td>Aguascalientes</td>\n",
       "      <td>AGUASCALIENTES (OBS)</td>\n",
       "      <td>AGUASCALIENTES</td>\n",
       "      <td>AGUASCALIENTES</td>\n",
       "      <td>...</td>\n",
       "      <td>https://smn.conagua.gob.mx/tools/RESOURCES/Nor...</td>\n",
       "      <td>https://smn.conagua.gob.mx/tools/RESOURCES/Nor...</td>\n",
       "      <td>https://smn.conagua.gob.mx/tools/RESOURCES/Nor...</td>\n",
       "      <td>https://smn.conagua.gob.mx/tools/RESOURCES/Nor...</td>\n",
       "      <td>https://smn.conagua.gob.mx/tools/RESOURCES/Nor...</td>\n",
       "      <td>https://smn.conagua.gob.mx/tools/RESOURCES/Nor...</td>\n",
       "      <td>1890.8</td>\n",
       "      <td>-102.290833</td>\n",
       "      <td>21.850278</td>\n",
       "      <td>POINT (-102.29083 21.85028)</td>\n",
       "    </tr>\n",
       "    <tr>\n",
       "      <th>1</th>\n",
       "      <td>2</td>\n",
       "      <td>1003</td>\n",
       "      <td>01</td>\n",
       "      <td>Aguascalientes</td>\n",
       "      <td>003</td>\n",
       "      <td>01003</td>\n",
       "      <td>Calvillo</td>\n",
       "      <td>CALVILLO (SMN)</td>\n",
       "      <td>AGUASCALIENTES</td>\n",
       "      <td>CALVILLO</td>\n",
       "      <td>...</td>\n",
       "      <td>https://smn.conagua.gob.mx/tools/RESOURCES/Nor...</td>\n",
       "      <td>https://smn.conagua.gob.mx/tools/RESOURCES/Nor...</td>\n",
       "      <td>https://smn.conagua.gob.mx/tools/RESOURCES/Nor...</td>\n",
       "      <td>-999</td>\n",
       "      <td>-999</td>\n",
       "      <td>-999</td>\n",
       "      <td>1640.0</td>\n",
       "      <td>-102.718889</td>\n",
       "      <td>21.883333</td>\n",
       "      <td>POINT (-102.71889 21.88333)</td>\n",
       "    </tr>\n",
       "    <tr>\n",
       "      <th>2</th>\n",
       "      <td>3</td>\n",
       "      <td>1004</td>\n",
       "      <td>01</td>\n",
       "      <td>Aguascalientes</td>\n",
       "      <td>001</td>\n",
       "      <td>01001</td>\n",
       "      <td>Aguascalientes</td>\n",
       "      <td>CAÑADA HONDA</td>\n",
       "      <td>AGUASCALIENTES</td>\n",
       "      <td>AGUASCALIENTES</td>\n",
       "      <td>...</td>\n",
       "      <td>https://smn.conagua.gob.mx/tools/RESOURCES/Nor...</td>\n",
       "      <td>https://smn.conagua.gob.mx/tools/RESOURCES/Nor...</td>\n",
       "      <td>-999</td>\n",
       "      <td>https://smn.conagua.gob.mx/tools/RESOURCES/Nor...</td>\n",
       "      <td>https://smn.conagua.gob.mx/tools/RESOURCES/Nor...</td>\n",
       "      <td>https://smn.conagua.gob.mx/tools/RESOURCES/Nor...</td>\n",
       "      <td>1925.0</td>\n",
       "      <td>-102.198889</td>\n",
       "      <td>22.000833</td>\n",
       "      <td>POINT (-102.19889 22.00083)</td>\n",
       "    </tr>\n",
       "    <tr>\n",
       "      <th>3</th>\n",
       "      <td>4</td>\n",
       "      <td>1005</td>\n",
       "      <td>01</td>\n",
       "      <td>Aguascalientes</td>\n",
       "      <td>001</td>\n",
       "      <td>01001</td>\n",
       "      <td>Aguascalientes</td>\n",
       "      <td>PRESA EL NIAGARA</td>\n",
       "      <td>AGUASCALIENTES</td>\n",
       "      <td>AGUASCALIENTES</td>\n",
       "      <td>...</td>\n",
       "      <td>https://smn.conagua.gob.mx/tools/RESOURCES/Nor...</td>\n",
       "      <td>https://smn.conagua.gob.mx/tools/RESOURCES/Nor...</td>\n",
       "      <td>https://smn.conagua.gob.mx/tools/RESOURCES/Nor...</td>\n",
       "      <td>https://smn.conagua.gob.mx/tools/RESOURCES/Nor...</td>\n",
       "      <td>https://smn.conagua.gob.mx/tools/RESOURCES/Nor...</td>\n",
       "      <td>https://smn.conagua.gob.mx/tools/RESOURCES/Nor...</td>\n",
       "      <td>1844.0</td>\n",
       "      <td>-102.371667</td>\n",
       "      <td>21.780556</td>\n",
       "      <td>POINT (-102.37167 21.78056)</td>\n",
       "    </tr>\n",
       "    <tr>\n",
       "      <th>4</th>\n",
       "      <td>5</td>\n",
       "      <td>1006</td>\n",
       "      <td>01</td>\n",
       "      <td>Aguascalientes</td>\n",
       "      <td>002</td>\n",
       "      <td>01002</td>\n",
       "      <td>Asientos</td>\n",
       "      <td>EL TULE (SMN)</td>\n",
       "      <td>AGUASCALIENTES</td>\n",
       "      <td>ASIENTOS</td>\n",
       "      <td>...</td>\n",
       "      <td>https://smn.conagua.gob.mx/tools/RESOURCES/Nor...</td>\n",
       "      <td>https://smn.conagua.gob.mx/tools/RESOURCES/Nor...</td>\n",
       "      <td>https://smn.conagua.gob.mx/tools/RESOURCES/Nor...</td>\n",
       "      <td>-999</td>\n",
       "      <td>-999</td>\n",
       "      <td>-999</td>\n",
       "      <td>1960.0</td>\n",
       "      <td>-102.091389</td>\n",
       "      <td>22.081667</td>\n",
       "      <td>POINT (-102.09139 22.08167)</td>\n",
       "    </tr>\n",
       "  </tbody>\n",
       "</table>\n",
       "<p>5 rows × 27 columns</p>\n",
       "</div>"
      ],
      "text/plain": [
       "   g_id  clave cve_ent         nom_ent cve_mun cvegeomun         nom_mun  \\\n",
       "0     1   1001      01  Aguascalientes     001     01001  Aguascalientes   \n",
       "1     2   1003      01  Aguascalientes     003     01003        Calvillo   \n",
       "2     3   1004      01  Aguascalientes     001     01001  Aguascalientes   \n",
       "3     4   1005      01  Aguascalientes     001     01001  Aguascalientes   \n",
       "4     5   1006      01  Aguascalientes     002     01002        Asientos   \n",
       "\n",
       "                  nombre entidad_monitoreo municipio_monitoreo  ...  \\\n",
       "0   AGUASCALIENTES (OBS)    AGUASCALIENTES      AGUASCALIENTES  ...   \n",
       "1         CALVILLO (SMN)    AGUASCALIENTES            CALVILLO  ...   \n",
       "2           CAÑADA HONDA    AGUASCALIENTES      AGUASCALIENTES  ...   \n",
       "3       PRESA EL NIAGARA    AGUASCALIENTES      AGUASCALIENTES  ...   \n",
       "4          EL TULE (SMN)    AGUASCALIENTES            ASIENTOS  ...   \n",
       "\n",
       "                                            val_mens  \\\n",
       "0  https://smn.conagua.gob.mx/tools/RESOURCES/Nor...   \n",
       "1  https://smn.conagua.gob.mx/tools/RESOURCES/Nor...   \n",
       "2  https://smn.conagua.gob.mx/tools/RESOURCES/Nor...   \n",
       "3  https://smn.conagua.gob.mx/tools/RESOURCES/Nor...   \n",
       "4  https://smn.conagua.gob.mx/tools/RESOURCES/Nor...   \n",
       "\n",
       "                                            val_extr  \\\n",
       "0  https://smn.conagua.gob.mx/tools/RESOURCES/Nor...   \n",
       "1  https://smn.conagua.gob.mx/tools/RESOURCES/Nor...   \n",
       "2  https://smn.conagua.gob.mx/tools/RESOURCES/Nor...   \n",
       "3  https://smn.conagua.gob.mx/tools/RESOURCES/Nor...   \n",
       "4  https://smn.conagua.gob.mx/tools/RESOURCES/Nor...   \n",
       "\n",
       "                                          norm_61_90  \\\n",
       "0  https://smn.conagua.gob.mx/tools/RESOURCES/Nor...   \n",
       "1  https://smn.conagua.gob.mx/tools/RESOURCES/Nor...   \n",
       "2                                               -999   \n",
       "3  https://smn.conagua.gob.mx/tools/RESOURCES/Nor...   \n",
       "4  https://smn.conagua.gob.mx/tools/RESOURCES/Nor...   \n",
       "\n",
       "                                          norm_71_00  \\\n",
       "0  https://smn.conagua.gob.mx/tools/RESOURCES/Nor...   \n",
       "1                                               -999   \n",
       "2  https://smn.conagua.gob.mx/tools/RESOURCES/Nor...   \n",
       "3  https://smn.conagua.gob.mx/tools/RESOURCES/Nor...   \n",
       "4                                               -999   \n",
       "\n",
       "                                          norm_81_10  \\\n",
       "0  https://smn.conagua.gob.mx/tools/RESOURCES/Nor...   \n",
       "1                                               -999   \n",
       "2  https://smn.conagua.gob.mx/tools/RESOURCES/Nor...   \n",
       "3  https://smn.conagua.gob.mx/tools/RESOURCES/Nor...   \n",
       "4                                               -999   \n",
       "\n",
       "                                          norm_91_20 altitud      x_long  \\\n",
       "0  https://smn.conagua.gob.mx/tools/RESOURCES/Nor...  1890.8 -102.290833   \n",
       "1                                               -999  1640.0 -102.718889   \n",
       "2  https://smn.conagua.gob.mx/tools/RESOURCES/Nor...  1925.0 -102.198889   \n",
       "3  https://smn.conagua.gob.mx/tools/RESOURCES/Nor...  1844.0 -102.371667   \n",
       "4                                               -999  1960.0 -102.091389   \n",
       "\n",
       "       y_lat                     geometry  \n",
       "0  21.850278  POINT (-102.29083 21.85028)  \n",
       "1  21.883333  POINT (-102.71889 21.88333)  \n",
       "2  22.000833  POINT (-102.19889 22.00083)  \n",
       "3  21.780556  POINT (-102.37167 21.78056)  \n",
       "4  22.081667  POINT (-102.09139 22.08167)  \n",
       "\n",
       "[5 rows x 27 columns]"
      ]
     },
     "execution_count": 17,
     "metadata": {},
     "output_type": "execute_result"
    }
   ],
   "source": [
    "gdf.head()"
   ]
  },
  {
   "cell_type": "code",
   "execution_count": 16,
   "id": "613a0939-364e-4671-8e09-38fe02700b89",
   "metadata": {},
   "outputs": [],
   "source": [
    "gdf = nan_df(gdf)"
   ]
  },
  {
   "cell_type": "code",
   "execution_count": 18,
   "id": "063367f6-ef56-46c3-9b65-1fea48fb1a5f",
   "metadata": {},
   "outputs": [],
   "source": [
    "ruta = \"/home/sear/Documentos/integracion_capas/57_251024_estaciones_clim/salida_estaciones_clim_2024_inegi.gpkg\""
   ]
  },
  {
   "cell_type": "code",
   "execution_count": 20,
   "id": "c1d19704-8660-438f-a461-da0823e5809b",
   "metadata": {},
   "outputs": [],
   "source": [
    "gdf.to_file(ruta, layer='estaciones_climatologicas_2024', driver=\"GPKG\")"
   ]
  },
  {
   "cell_type": "code",
   "execution_count": null,
   "id": "2a80301d-4cb5-49b3-a1af-1231f7f890b0",
   "metadata": {},
   "outputs": [],
   "source": []
  }
 ],
 "metadata": {
  "kernelspec": {
   "display_name": "Python 3 (ipykernel)",
   "language": "python",
   "name": "python3"
  },
  "language_info": {
   "codemirror_mode": {
    "name": "ipython",
    "version": 3
   },
   "file_extension": ".py",
   "mimetype": "text/x-python",
   "name": "python",
   "nbconvert_exporter": "python",
   "pygments_lexer": "ipython3",
   "version": "3.12.5"
  }
 },
 "nbformat": 4,
 "nbformat_minor": 5
}
