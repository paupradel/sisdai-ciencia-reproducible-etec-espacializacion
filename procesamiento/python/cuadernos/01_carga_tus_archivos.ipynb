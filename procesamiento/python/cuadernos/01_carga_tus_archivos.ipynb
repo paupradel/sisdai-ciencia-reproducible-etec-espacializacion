{
 "cells": [
  {
   "cell_type": "markdown",
   "metadata": {},
   "source": [
    "## 1. Importar las bibliotecas y módulos necesarios."
   ]
  },
  {
   "cell_type": "code",
   "execution_count": 1,
   "metadata": {},
   "outputs": [],
   "source": [
    "import sys\n",
    "sys.path.append('../')\n",
    "from modulos.preprocesos_capas.importar import *"
   ]
  },
  {
   "cell_type": "markdown",
   "metadata": {},
   "source": [
    "## 2. Cargar los datos."
   ]
  },
  {
   "cell_type": "code",
   "execution_count": 3,
   "metadata": {},
   "outputs": [
    {
     "name": "stdout",
     "output_type": "stream",
     "text": [
      "Resumen de la capa:\n",
      "\n",
      "Dimensiones de la tabla --> Filas: 36640, Columnas: 13\n",
      "\n",
      "Nombres de los campos -->\n",
      "cve_ent, nom_ent, cvu, sexo, inicio_vig, fin_vig, nivel, vivo, area, campo, disciplina, subdisciplina, especialidad\n",
      "\n",
      "Tipos de datos en los campos:\n",
      "+---------------+----------------+\n",
      "|     Campo     |  Tipo de Dato  |\n",
      "+---------------+----------------+\n",
      "|    cve_ent    |     int64      |\n",
      "|    nom_ent    |     object     |\n",
      "|      cvu      |     int64      |\n",
      "|     sexo      |     object     |\n",
      "|  inicio_vig   | datetime64[ns] |\n",
      "|    fin_vig    |     object     |\n",
      "|     nivel     |     object     |\n",
      "|     vivo      |     object     |\n",
      "|     area      |     object     |\n",
      "|     campo     |     object     |\n",
      "|  disciplina   |     object     |\n",
      "| subdisciplina |     object     |\n",
      "| especialidad  |     object     |\n",
      "+---------------+----------------+\n"
     ]
    }
   ],
   "source": [
    "df = cargar_excel()"
   ]
  },
  {
   "cell_type": "code",
   "execution_count": 4,
   "metadata": {},
   "outputs": [
    {
     "name": "stdout",
     "output_type": "stream",
     "text": [
      "Resumen de la capa:\n",
      "\n",
      "Dimensiones de la tabla --> Filas: 18, Columnas: 3\n",
      "\n",
      "Nombres de los campos -->\n",
      "g_id, nom_corr_t, corredor\n",
      "\n",
      "Tipos de datos en los campos:\n",
      "+------------+--------------+\n",
      "|   Campo    | Tipo de Dato |\n",
      "+------------+--------------+\n",
      "|    g_id    |    int64     |\n",
      "| nom_corr_t |    object    |\n",
      "|  corredor  |    int64     |\n",
      "+------------+--------------+\n"
     ]
    }
   ],
   "source": [
    "df = cargar_csv()"
   ]
  },
  {
   "cell_type": "code",
   "execution_count": 5,
   "metadata": {},
   "outputs": [
    {
     "name": "stdout",
     "output_type": "stream",
     "text": [
      "Archivo: \n",
      " D:/code-work/sisdai-etec-espacializacion/datos/datos-originales/hcti_centros_invest_conahcyt_0421_xy_p.gpkg \n",
      "\n",
      "Resumen de la capa:\n",
      "\n",
      "Dimensiones de la tabla --> Filas: 122, Columnas: 15\n",
      "\n",
      "Nombres de los campos -->\n",
      "g_id, cve_ent, nom_ent, cve_mun, cvegeomun, nom_mun, oid, descripcion, tel_oficina, tel_oficina_ext, direccion, pagina, x_long, y_lat, geometry\n",
      "\n",
      "Tipos de datos en los campos:\n",
      "+-----------------+--------------+\n",
      "|      Campo      | Tipo de Dato |\n",
      "+-----------------+--------------+\n",
      "|      g_id       |    int64     |\n",
      "|     cve_ent     |    object    |\n",
      "|     nom_ent     |    object    |\n",
      "|     cve_mun     |    object    |\n",
      "|    cvegeomun    |    object    |\n",
      "|     nom_mun     |    object    |\n",
      "|       oid       |    int32     |\n",
      "|   descripcion   |    object    |\n",
      "|   tel_oficina   |    object    |\n",
      "| tel_oficina_ext |    int32     |\n",
      "|    direccion    |    object    |\n",
      "|     pagina      |    object    |\n",
      "|     x_long      |   float64    |\n",
      "|      y_lat      |   float64    |\n",
      "|    geometry     |   geometry   |\n",
      "+-----------------+--------------+\n",
      "\n",
      "Marco de referencia para sistemas de coordenadas -->  EPSG:4326\n"
     ]
    }
   ],
   "source": [
    "capa = cargar_capa_geoespacial()"
   ]
  }
 ],
 "metadata": {
  "kernelspec": {
   "display_name": "proyectos_geo",
   "language": "python",
   "name": "python3"
  },
  "language_info": {
   "codemirror_mode": {
    "name": "ipython",
    "version": 3
   },
   "file_extension": ".py",
   "mimetype": "text/x-python",
   "name": "python",
   "nbconvert_exporter": "python",
   "pygments_lexer": "ipython3",
   "version": "3.13.0"
  }
 },
 "nbformat": 4,
 "nbformat_minor": 2
}
